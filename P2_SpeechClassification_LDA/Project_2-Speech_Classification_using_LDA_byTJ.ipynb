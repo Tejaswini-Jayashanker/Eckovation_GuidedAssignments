{
 "cells": [
  {
   "cell_type": "markdown",
   "id": "7f2f26b4",
   "metadata": {},
   "source": [
    "# Guided Project: Feature Engineering - Speech Classification"
   ]
  },
  {
   "cell_type": "markdown",
   "id": "3261e697",
   "metadata": {},
   "source": [
    "Linear Discriminant Analysis (LDA) is a dimesionality reduction technique used to reduce the number of dimensions(Variables) in a dataset while retianing as much information as possible.\n",
    "Using LDA based classification, we can find discriminative features for a given audio segment to achieve the task of Automatic Speech Classification such that speech belonging to the same class are together, but samples from differreent classes are far apart."
   ]
  },
  {
   "cell_type": "markdown",
   "id": "c829d0ba",
   "metadata": {},
   "source": [
    "Challenge (Question):\n",
    "    In Order to implement LDA, first generate a dummy dataset (say Iris Datset having 4 features)and use LDA to decrease the number of features to 1 or 2. Now using this modified dataset, try to learn a classifier to test the performance of LDA for dimensionality reduction."
   ]
  },
  {
   "cell_type": "markdown",
   "id": "e09c0079",
   "metadata": {},
   "source": [
    "Below Python code serves as one Solution to the Challenge by Tejaswini J."
   ]
  },
  {
   "cell_type": "code",
   "execution_count": 1,
   "id": "7bdf5e45",
   "metadata": {},
   "outputs": [],
   "source": [
    "#Importing the necessary Libraries.\n",
    "\n",
    "import numpy as np\n",
    "import pandas as pd\n",
    "import matplotlib.pyplot as plt\n",
    "import seaborn as sns"
   ]
  },
  {
   "cell_type": "code",
   "execution_count": 3,
   "id": "156924c9",
   "metadata": {},
   "outputs": [
    {
     "data": {
      "text/html": [
       "<div>\n",
       "<style scoped>\n",
       "    .dataframe tbody tr th:only-of-type {\n",
       "        vertical-align: middle;\n",
       "    }\n",
       "\n",
       "    .dataframe tbody tr th {\n",
       "        vertical-align: top;\n",
       "    }\n",
       "\n",
       "    .dataframe thead th {\n",
       "        text-align: right;\n",
       "    }\n",
       "</style>\n",
       "<table border=\"1\" class=\"dataframe\">\n",
       "  <thead>\n",
       "    <tr style=\"text-align: right;\">\n",
       "      <th></th>\n",
       "      <th>0</th>\n",
       "      <th>1</th>\n",
       "      <th>2</th>\n",
       "      <th>3</th>\n",
       "      <th>4</th>\n",
       "    </tr>\n",
       "  </thead>\n",
       "  <tbody>\n",
       "    <tr>\n",
       "      <th>0</th>\n",
       "      <td>5.1</td>\n",
       "      <td>3.5</td>\n",
       "      <td>1.4</td>\n",
       "      <td>0.2</td>\n",
       "      <td>Iris-setosa</td>\n",
       "    </tr>\n",
       "    <tr>\n",
       "      <th>1</th>\n",
       "      <td>4.9</td>\n",
       "      <td>3.0</td>\n",
       "      <td>1.4</td>\n",
       "      <td>0.2</td>\n",
       "      <td>Iris-setosa</td>\n",
       "    </tr>\n",
       "    <tr>\n",
       "      <th>2</th>\n",
       "      <td>4.7</td>\n",
       "      <td>3.2</td>\n",
       "      <td>1.3</td>\n",
       "      <td>0.2</td>\n",
       "      <td>Iris-setosa</td>\n",
       "    </tr>\n",
       "    <tr>\n",
       "      <th>3</th>\n",
       "      <td>4.6</td>\n",
       "      <td>3.1</td>\n",
       "      <td>1.5</td>\n",
       "      <td>0.2</td>\n",
       "      <td>Iris-setosa</td>\n",
       "    </tr>\n",
       "    <tr>\n",
       "      <th>4</th>\n",
       "      <td>5.0</td>\n",
       "      <td>3.6</td>\n",
       "      <td>1.4</td>\n",
       "      <td>0.2</td>\n",
       "      <td>Iris-setosa</td>\n",
       "    </tr>\n",
       "  </tbody>\n",
       "</table>\n",
       "</div>"
      ],
      "text/plain": [
       "     0    1    2    3            4\n",
       "0  5.1  3.5  1.4  0.2  Iris-setosa\n",
       "1  4.9  3.0  1.4  0.2  Iris-setosa\n",
       "2  4.7  3.2  1.3  0.2  Iris-setosa\n",
       "3  4.6  3.1  1.5  0.2  Iris-setosa\n",
       "4  5.0  3.6  1.4  0.2  Iris-setosa"
      ]
     },
     "execution_count": 3,
     "metadata": {},
     "output_type": "execute_result"
    }
   ],
   "source": [
    "#loading the datset\n",
    "iris_data = pd.read_csv( 'iris.data.csv', header = None )\n",
    "\n",
    "\n",
    "iris_data.head()"
   ]
  },
  {
   "cell_type": "code",
   "execution_count": 5,
   "id": "671edf0a",
   "metadata": {},
   "outputs": [
    {
     "data": {
      "text/plain": [
       "array([[1.16722735, 0.78296373, 0.34611786, 0.18386817],\n",
       "       [0.78296373, 1.8615894 , 0.21806165, 0.30505192],\n",
       "       [0.34611786, 0.21806165, 0.1796358 , 0.09541594],\n",
       "       [0.18386817, 0.30505192, 0.09541594, 0.21784923]])"
      ]
     },
     "execution_count": 5,
     "metadata": {},
     "output_type": "execute_result"
    }
   ],
   "source": [
    "#Encode categorical class labels\n",
    "from sklearn.preprocessing import LabelEncoder\n",
    "class_le = LabelEncoder()\n",
    "y = class_le.fit_transform( iris_data[ 4 ].values )\n",
    "\n",
    "#Standardize features\n",
    "from sklearn.preprocessing import StandardScaler\n",
    "stdsc = StandardScaler()\n",
    "X_train_std = stdsc.fit_transform( iris_data.iloc[ :, range( 0,4 )].values ) \n",
    "\n",
    "#Construct within-class covariant scatter matrix S_W\n",
    "S_W = np.zeros( ( 4, 4 ) )\n",
    "for i in range( 3 ):\n",
    "    S_W += np.cov( X_train_std[ y == i ].T )\n",
    "\n",
    "S_W"
   ]
  },
  {
   "cell_type": "code",
   "execution_count": 6,
   "id": "9aeb371c",
   "metadata": {},
   "outputs": [
    {
     "data": {
      "text/plain": [
       "array([[ 92.80585961, -54.77061003, 113.8033484 , 113.68350465],\n",
       "       [-54.77061003,  58.78211947, -73.76243518, -68.42915731],\n",
       "       [113.8033484 , -73.76243518, 141.19784603, 139.73818372],\n",
       "       [113.68350465, -68.42915731, 139.73818372, 139.3253878 ]])"
      ]
     },
     "execution_count": 6,
     "metadata": {},
     "output_type": "execute_result"
    }
   ],
   "source": [
    "#Construct between-class scatter matrix S_B\n",
    "N = np.bincount( y ) # number of samples for given class\n",
    "vecs = []\n",
    "[ vecs.append( np.mean( X_train_std[ y == i ],axis = 0 ) ) for i in range( 3 ) ] # class means\n",
    "mean_overall = np.mean( X_train_std, axis = 0 ) # overall mean\n",
    "S_B = np.zeros( ( 4, 4 ) )\n",
    "for i in range( 3 ):\n",
    "    S_B += N[ i ]*( ( ( vecs[ i ] - mean_overall ).reshape( 4,1) ).dot( ( ( vecs[ i ] - mean_overall ).reshape( 1, 4) ) ) )\n",
    "\n",
    "\n",
    "S_B"
   ]
  },
  {
   "cell_type": "code",
   "execution_count": 7,
   "id": "95dae747",
   "metadata": {},
   "outputs": [
    {
     "name": "stdout",
     "output_type": "stream",
     "text": [
      "Eigenvalues in decreasing order:\n",
      "\n",
      "1581.3259321867629\n",
      "13.60077632816224\n",
      "1.5798874091613385e-13\n",
      "1.5798874091613385e-13\n"
     ]
    }
   ],
   "source": [
    "#Calculate sorted eigenvalues and eigenvectors of inverse(S_W)dot(S_B)\n",
    "eigen_vals, eigen_vecs = np.linalg.eig( np.linalg.inv( S_W ).dot( S_B ) )\n",
    "eigen_pairs = [ (np.abs( eigen_vals[ i ] ), eigen_vecs[ :, i ] ) for i in range( len( eigen_vals ) ) ]\n",
    "eigen_pairs = sorted( eigen_pairs,key = lambda k: k[ 0 ], reverse = True )\n",
    "print( 'Eigenvalues in decreasing order:\\n' )\n",
    "for eigen_val in eigen_pairs:\n",
    "    print( eigen_val[ 0 ] )"
   ]
  },
  {
   "cell_type": "code",
   "execution_count": 8,
   "id": "b6677c4b",
   "metadata": {},
   "outputs": [
    {
     "data": {
      "image/png": "[encoded data removed]",
      "text/plain": [
       "<Figure size 432x288 with 1 Axes>"
      ]
     },
     "metadata": {
      "needs_background": "light"
     },
     "output_type": "display_data"
    }
   ],
   "source": [
    "#Plot main LDA components\n",
    "tot = sum( eigen_vals.real )\n",
    "discr = [ ( i / tot ) for i in sorted( eigen_vals.real, reverse = True ) ]\n",
    "cum_discr = np.cumsum( discr )\n",
    "plt.bar( range( 1, 5 ), discr, width = 0.2, alpha = 0.5, align = 'center', label = 'individual \"discriminability\" ' )\n",
    "plt.step( range( 1, 5 ), cum_discr, where = 'mid', label = 'cumulative \"discriminability\" ' )\n",
    "plt.ylabel( '\"discriminability\" ratio' )\n",
    "plt.xlabel( 'Linear Discriminants' )\n",
    "plt.ylim( [ -0.1, 1.1 ] )\n",
    "plt.legend( loc = 'best' )\n",
    "plt.show()"
   ]
  },
  {
   "cell_type": "code",
   "execution_count": 10,
   "id": "9658954a",
   "metadata": {},
   "outputs": [
    {
     "data": {
      "text/html": [
       "<div>\n",
       "<style scoped>\n",
       "    .dataframe tbody tr th:only-of-type {\n",
       "        vertical-align: middle;\n",
       "    }\n",
       "\n",
       "    .dataframe tbody tr th {\n",
       "        vertical-align: top;\n",
       "    }\n",
       "\n",
       "    .dataframe thead th {\n",
       "        text-align: right;\n",
       "    }\n",
       "</style>\n",
       "<table border=\"1\" class=\"dataframe\">\n",
       "  <thead>\n",
       "    <tr style=\"text-align: right;\">\n",
       "      <th></th>\n",
       "      <th>LD1</th>\n",
       "      <th>LD2</th>\n",
       "      <th>class</th>\n",
       "    </tr>\n",
       "  </thead>\n",
       "  <tbody>\n",
       "    <tr>\n",
       "      <th>0</th>\n",
       "      <td>1.790936</td>\n",
       "      <td>0.115414</td>\n",
       "      <td>0</td>\n",
       "    </tr>\n",
       "    <tr>\n",
       "      <th>1</th>\n",
       "      <td>1.583202</td>\n",
       "      <td>-0.265463</td>\n",
       "      <td>0</td>\n",
       "    </tr>\n",
       "    <tr>\n",
       "      <th>2</th>\n",
       "      <td>1.663881</td>\n",
       "      <td>-0.083657</td>\n",
       "      <td>0</td>\n",
       "    </tr>\n",
       "    <tr>\n",
       "      <th>3</th>\n",
       "      <td>1.514646</td>\n",
       "      <td>-0.225901</td>\n",
       "      <td>0</td>\n",
       "    </tr>\n",
       "    <tr>\n",
       "      <th>4</th>\n",
       "      <td>1.807076</td>\n",
       "      <td>0.189973</td>\n",
       "      <td>0</td>\n",
       "    </tr>\n",
       "  </tbody>\n",
       "</table>\n",
       "</div>"
      ],
      "text/plain": [
       "        LD1       LD2  class\n",
       "0  1.790936  0.115414      0\n",
       "1  1.583202 -0.265463      0\n",
       "2  1.663881 -0.083657      0\n",
       "3  1.514646 -0.225901      0\n",
       "4  1.807076  0.189973      0"
      ]
     },
     "execution_count": 10,
     "metadata": {},
     "output_type": "execute_result"
    }
   ],
   "source": [
    "#Project original features onto the new feature space\n",
    "W = np.hstack( ( eigen_pairs[ 0 ][ 1 ][ :, ].reshape( 4, 1 ),eigen_pairs[ 1 ][ 1 ][ :, ].reshape( 4, 1 ) ) ).real\n",
    "X_train_lda = X_train_std.dot( W )\n",
    "\n",
    "#Plot transformed features in LDA subspace\n",
    "\n",
    "data = pd.DataFrame( X_train_lda )\n",
    "data[ 'class' ] = y\n",
    "data.columns=[ \"LD1\", \"LD2\", \"class\" ]\n",
    "data.head()"
   ]
  },
  {
   "cell_type": "code",
   "execution_count": 11,
   "id": "a9b22400",
   "metadata": {},
   "outputs": [
    {
     "data": {
      "image/png": "[encoded data removed]",
      "text/plain": [
       "<Figure size 360x360 with 1 Axes>"
      ]
     },
     "metadata": {
      "needs_background": "light"
     },
     "output_type": "display_data"
    }
   ],
   "source": [
    "markers = [ 's', 'x','o' ]\n",
    "sns.lmplot( x = \"LD1\", y = \"LD2\", data = data, markers = markers, fit_reg = False, hue = 'class', legend = False )\n",
    "plt.legend( loc = 'upper center' )\n",
    "plt.show()"
   ]
  },
  {
   "cell_type": "markdown",
   "id": "ebc05094",
   "metadata": {},
   "source": [
    "# LDA implementation using scikit-learn"
   ]
  },
  {
   "cell_type": "code",
   "execution_count": 12,
   "id": "c19e06dc",
   "metadata": {},
   "outputs": [
    {
     "data": {
      "text/html": [
       "<div>\n",
       "<style scoped>\n",
       "    .dataframe tbody tr th:only-of-type {\n",
       "        vertical-align: middle;\n",
       "    }\n",
       "\n",
       "    .dataframe tbody tr th {\n",
       "        vertical-align: top;\n",
       "    }\n",
       "\n",
       "    .dataframe thead th {\n",
       "        text-align: right;\n",
       "    }\n",
       "</style>\n",
       "<table border=\"1\" class=\"dataframe\">\n",
       "  <thead>\n",
       "    <tr style=\"text-align: right;\">\n",
       "      <th></th>\n",
       "      <th>LD1</th>\n",
       "      <th>LD2</th>\n",
       "      <th>class</th>\n",
       "    </tr>\n",
       "  </thead>\n",
       "  <tbody>\n",
       "    <tr>\n",
       "      <th>0</th>\n",
       "      <td>8.084953</td>\n",
       "      <td>0.328454</td>\n",
       "      <td>0</td>\n",
       "    </tr>\n",
       "    <tr>\n",
       "      <th>1</th>\n",
       "      <td>7.147163</td>\n",
       "      <td>-0.755473</td>\n",
       "      <td>0</td>\n",
       "    </tr>\n",
       "    <tr>\n",
       "      <th>2</th>\n",
       "      <td>7.511378</td>\n",
       "      <td>-0.238078</td>\n",
       "      <td>0</td>\n",
       "    </tr>\n",
       "    <tr>\n",
       "      <th>3</th>\n",
       "      <td>6.837676</td>\n",
       "      <td>-0.642885</td>\n",
       "      <td>0</td>\n",
       "    </tr>\n",
       "    <tr>\n",
       "      <th>4</th>\n",
       "      <td>8.157814</td>\n",
       "      <td>0.540639</td>\n",
       "      <td>0</td>\n",
       "    </tr>\n",
       "  </tbody>\n",
       "</table>\n",
       "</div>"
      ],
      "text/plain": [
       "        LD1       LD2  class\n",
       "0  8.084953  0.328454      0\n",
       "1  7.147163 -0.755473      0\n",
       "2  7.511378 -0.238078      0\n",
       "3  6.837676 -0.642885      0\n",
       "4  8.157814  0.540639      0"
      ]
     },
     "execution_count": 12,
     "metadata": {},
     "output_type": "execute_result"
    }
   ],
   "source": [
    "from sklearn.discriminant_analysis import LinearDiscriminantAnalysis\n",
    "lda = LinearDiscriminantAnalysis( n_components = 2 )\n",
    "X_train_lda = lda.fit_transform( X_train_std, y )\n",
    "\n",
    "data=pd.DataFrame( X_train_lda )\n",
    "data[ 'class' ]=y\n",
    "data.columns=[ \"LD1\", \"LD2\", \"class\" ]\n",
    "data.head()"
   ]
  },
  {
   "cell_type": "code",
   "execution_count": 13,
   "id": "a6cc9c3f",
   "metadata": {},
   "outputs": [
    {
     "data": {
      "image/png": "[encoded data removed]",
      "text/plain": [
       "<Figure size 360x360 with 1 Axes>"
      ]
     },
     "metadata": {
      "needs_background": "light"
     },
     "output_type": "display_data"
    }
   ],
   "source": [
    "markers = [ 's', 'x', 'o' ]\n",
    "colors = [ 'r', 'b','g' ]\n",
    "sns.lmplot( x = \"LD1\", y = \"LD2\", data = data, hue = 'class', markers = markers, fit_reg = False, legend = False )\n",
    "plt.legend( loc = 'upper center' )\n",
    "plt.show()"
   ]
  }
 ],
 "metadata": {
  "kernelspec": {
   "display_name": "Python 3",
   "language": "python",
   "name": "python3"
  },
  "language_info": {
   "codemirror_mode": {
    "name": "ipython",
    "version": 3
   },
   "file_extension": ".py",
   "mimetype": "text/x-python",
   "name": "python",
   "nbconvert_exporter": "python",
   "pygments_lexer": "ipython3",
   "version": "3.8.8"
  }
 },
 "nbformat": 4,
 "nbformat_minor": 5
}
